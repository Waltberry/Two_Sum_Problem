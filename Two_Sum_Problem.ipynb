{
  "nbformat": 4,
  "nbformat_minor": 0,
  "metadata": {
    "colab": {
      "name": "Two_Sum Problem.ipynb",
      "provenance": [],
      "authorship_tag": "ABX9TyMFsU4/wgW5GxFh6crzJXqe",
      "include_colab_link": true
    },
    "kernelspec": {
      "name": "python3",
      "display_name": "Python 3"
    },
    "language_info": {
      "name": "python"
    }
  },
  "cells": [
    {
      "cell_type": "markdown",
      "metadata": {
        "id": "view-in-github",
        "colab_type": "text"
      },
      "source": [
        "<a href=\"https://colab.research.google.com/github/Waltberry/Two_Sum_Problem/blob/main/Two_Sum_Problem.ipynb\" target=\"_parent\"><img src=\"https://colab.research.google.com/assets/colab-badge.svg\" alt=\"Open In Colab\"/></a>"
      ]
    },
    {
      "cell_type": "markdown",
      "metadata": {
        "id": "0Q-QODQDvse1"
      },
      "source": [
        "Two Sum Problem is a common interview question, and it is a variation of the subset sum problem."
      ]
    },
    {
      "cell_type": "code",
      "metadata": {
        "id": "1HyasAXmv48l"
      },
      "source": [
        "#This code solves the Two sum problem.\n",
        "def two_sum(nums, target):\n",
        "        d = {}\n",
        "        \n",
        "           \n",
        "        for i in range(len(nums)):    \n",
        "            if target - nums[i] in d:\n",
        "                print(d)\n",
        "                return [d[target-nums[i]],i]\n",
        "            \n",
        "            d[nums[i]] = i\n",
        "            \n",
        "        return -1"
      ],
      "execution_count": 10,
      "outputs": []
    },
    {
      "cell_type": "code",
      "metadata": {
        "colab": {
          "base_uri": "https://localhost:8080/"
        },
        "id": "_g1Ywhm6xeED",
        "outputId": "6167fb54-5a6f-4814-be8b-a7df3818be63"
      },
      "source": [
        "#running the code\n",
        "L = [2,4,7,9,0,3,4,6]\n",
        "\n",
        "\n",
        "print(two_sum(L,12))"
      ],
      "execution_count": 9,
      "outputs": [
        {
          "output_type": "stream",
          "name": "stdout",
          "text": [
            "{2: 0, 4: 1, 7: 2, 9: 3, 0: 4}\n",
            "[3, 5]\n"
          ]
        }
      ]
    }
  ]
}